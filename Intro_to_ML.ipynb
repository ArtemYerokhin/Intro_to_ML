{
 "cells": [
  {
   "cell_type": "markdown",
   "id": "5e05896c-2ff8-441a-a9e1-d3c01fc41707",
   "metadata": {},
   "source": [
    "# Рекомендация тарифов"
   ]
  },
  {
   "cell_type": "markdown",
   "id": "e6e14700-5c41-489b-8d89-0d352031b8d0",
   "metadata": {},
   "source": [
    "## Описание проекта\n",
    "В нашем распоряжении данные о поведении клиентов, которые уже перешли на новые тарифы. Нужно построить модель для задачи классификации, которая выберет подходящий тариф для пользователей архивных тарифов.\n",
    "## Цель проекта\n",
    "Построить модель с максимально большим значением accuracy (не менее 0,75).\n",
    "## Описание данных\n",
    "Каждый объект в наборе данных — это информация о поведении одного пользователя за месяц. Известно:\n",
    "\n",
    "`сalls` — количество звонков,\n",
    "\n",
    "`minutes` — суммарная длительность звонков в минутах,\n",
    "\n",
    "`messages` — количество sms-сообщений,\n",
    "\n",
    "`mb_used` — израсходованный интернет-трафик в Мб,\n",
    "\n",
    "`is_ultra` — каким тарифом пользовался в течение месяца («Ультра» — 1, «Смарт» — 0)."
   ]
  },
  {
   "cell_type": "markdown",
   "id": "ce143813-c6af-44b3-8283-45dfe375d32c",
   "metadata": {},
   "source": [
    "## 1. Загрузка и обзор данных"
   ]
  },
  {
   "cell_type": "code",
   "execution_count": 1,
   "id": "8064acea-88bd-4778-8d59-44e7deedfa31",
   "metadata": {},
   "outputs": [],
   "source": [
    "import numpy as np\n",
    "import pandas as pd\n",
    "from sklearn.model_selection import train_test_split\n",
    "from sklearn.metrics import accuracy_score\n",
    "from sklearn.tree import DecisionTreeClassifier\n",
    "from sklearn.ensemble import RandomForestClassifier\n",
    "from sklearn.linear_model import LogisticRegression\n",
    "from sklearn.dummy import DummyClassifier"
   ]
  },
  {
   "cell_type": "code",
   "execution_count": 3,
   "id": "4bdd0d71-67d7-46ca-96a0-87d241c97b80",
   "metadata": {},
   "outputs": [
    {
     "data": {
      "text/html": [
       "<div>\n",
       "<style scoped>\n",
       "    .dataframe tbody tr th:only-of-type {\n",
       "        vertical-align: middle;\n",
       "    }\n",
       "\n",
       "    .dataframe tbody tr th {\n",
       "        vertical-align: top;\n",
       "    }\n",
       "\n",
       "    .dataframe thead th {\n",
       "        text-align: right;\n",
       "    }\n",
       "</style>\n",
       "<table border=\"1\" class=\"dataframe\">\n",
       "  <thead>\n",
       "    <tr style=\"text-align: right;\">\n",
       "      <th></th>\n",
       "      <th>calls</th>\n",
       "      <th>minutes</th>\n",
       "      <th>messages</th>\n",
       "      <th>mb_used</th>\n",
       "      <th>is_ultra</th>\n",
       "    </tr>\n",
       "  </thead>\n",
       "  <tbody>\n",
       "    <tr>\n",
       "      <th>0</th>\n",
       "      <td>40.0</td>\n",
       "      <td>311.90</td>\n",
       "      <td>83.0</td>\n",
       "      <td>19915.42</td>\n",
       "      <td>0</td>\n",
       "    </tr>\n",
       "    <tr>\n",
       "      <th>1</th>\n",
       "      <td>85.0</td>\n",
       "      <td>516.75</td>\n",
       "      <td>56.0</td>\n",
       "      <td>22696.96</td>\n",
       "      <td>0</td>\n",
       "    </tr>\n",
       "    <tr>\n",
       "      <th>2</th>\n",
       "      <td>77.0</td>\n",
       "      <td>467.66</td>\n",
       "      <td>86.0</td>\n",
       "      <td>21060.45</td>\n",
       "      <td>0</td>\n",
       "    </tr>\n",
       "    <tr>\n",
       "      <th>3</th>\n",
       "      <td>106.0</td>\n",
       "      <td>745.53</td>\n",
       "      <td>81.0</td>\n",
       "      <td>8437.39</td>\n",
       "      <td>1</td>\n",
       "    </tr>\n",
       "    <tr>\n",
       "      <th>4</th>\n",
       "      <td>66.0</td>\n",
       "      <td>418.74</td>\n",
       "      <td>1.0</td>\n",
       "      <td>14502.75</td>\n",
       "      <td>0</td>\n",
       "    </tr>\n",
       "  </tbody>\n",
       "</table>\n",
       "</div>"
      ],
      "text/plain": [
       "   calls  minutes  messages   mb_used  is_ultra\n",
       "0   40.0   311.90      83.0  19915.42         0\n",
       "1   85.0   516.75      56.0  22696.96         0\n",
       "2   77.0   467.66      86.0  21060.45         0\n",
       "3  106.0   745.53      81.0   8437.39         1\n",
       "4   66.0   418.74       1.0  14502.75         0"
      ]
     },
     "execution_count": 3,
     "metadata": {},
     "output_type": "execute_result"
    }
   ],
   "source": [
    "df.head()"
   ]
  },
  {
   "cell_type": "code",
   "execution_count": 4,
   "id": "a5deee98-762d-4706-9553-5313ecd26af6",
   "metadata": {},
   "outputs": [
    {
     "name": "stdout",
     "output_type": "stream",
     "text": [
      "<class 'pandas.core.frame.DataFrame'>\n",
      "RangeIndex: 3214 entries, 0 to 3213\n",
      "Data columns (total 5 columns):\n",
      " #   Column    Non-Null Count  Dtype  \n",
      "---  ------    --------------  -----  \n",
      " 0   calls     3214 non-null   float64\n",
      " 1   minutes   3214 non-null   float64\n",
      " 2   messages  3214 non-null   float64\n",
      " 3   mb_used   3214 non-null   float64\n",
      " 4   is_ultra  3214 non-null   int64  \n",
      "dtypes: float64(4), int64(1)\n",
      "memory usage: 125.7 KB\n"
     ]
    }
   ],
   "source": [
    "df.info()"
   ]
  },
  {
   "cell_type": "code",
   "execution_count": 5,
   "id": "85a28957-1fab-42d3-af63-3e4d13bc587f",
   "metadata": {},
   "outputs": [
    {
     "data": {
      "text/html": [
       "<div>\n",
       "<style scoped>\n",
       "    .dataframe tbody tr th:only-of-type {\n",
       "        vertical-align: middle;\n",
       "    }\n",
       "\n",
       "    .dataframe tbody tr th {\n",
       "        vertical-align: top;\n",
       "    }\n",
       "\n",
       "    .dataframe thead th {\n",
       "        text-align: right;\n",
       "    }\n",
       "</style>\n",
       "<table border=\"1\" class=\"dataframe\">\n",
       "  <thead>\n",
       "    <tr style=\"text-align: right;\">\n",
       "      <th></th>\n",
       "      <th>calls</th>\n",
       "      <th>minutes</th>\n",
       "      <th>messages</th>\n",
       "      <th>mb_used</th>\n",
       "      <th>is_ultra</th>\n",
       "    </tr>\n",
       "  </thead>\n",
       "  <tbody>\n",
       "    <tr>\n",
       "      <th>count</th>\n",
       "      <td>3214.000000</td>\n",
       "      <td>3214.000000</td>\n",
       "      <td>3214.000000</td>\n",
       "      <td>3214.000000</td>\n",
       "      <td>3214.000000</td>\n",
       "    </tr>\n",
       "    <tr>\n",
       "      <th>mean</th>\n",
       "      <td>63.038892</td>\n",
       "      <td>438.208787</td>\n",
       "      <td>38.281269</td>\n",
       "      <td>17207.673836</td>\n",
       "      <td>0.306472</td>\n",
       "    </tr>\n",
       "    <tr>\n",
       "      <th>std</th>\n",
       "      <td>33.236368</td>\n",
       "      <td>234.569872</td>\n",
       "      <td>36.148326</td>\n",
       "      <td>7570.968246</td>\n",
       "      <td>0.461100</td>\n",
       "    </tr>\n",
       "    <tr>\n",
       "      <th>min</th>\n",
       "      <td>0.000000</td>\n",
       "      <td>0.000000</td>\n",
       "      <td>0.000000</td>\n",
       "      <td>0.000000</td>\n",
       "      <td>0.000000</td>\n",
       "    </tr>\n",
       "    <tr>\n",
       "      <th>25%</th>\n",
       "      <td>40.000000</td>\n",
       "      <td>274.575000</td>\n",
       "      <td>9.000000</td>\n",
       "      <td>12491.902500</td>\n",
       "      <td>0.000000</td>\n",
       "    </tr>\n",
       "    <tr>\n",
       "      <th>50%</th>\n",
       "      <td>62.000000</td>\n",
       "      <td>430.600000</td>\n",
       "      <td>30.000000</td>\n",
       "      <td>16943.235000</td>\n",
       "      <td>0.000000</td>\n",
       "    </tr>\n",
       "    <tr>\n",
       "      <th>75%</th>\n",
       "      <td>82.000000</td>\n",
       "      <td>571.927500</td>\n",
       "      <td>57.000000</td>\n",
       "      <td>21424.700000</td>\n",
       "      <td>1.000000</td>\n",
       "    </tr>\n",
       "    <tr>\n",
       "      <th>max</th>\n",
       "      <td>244.000000</td>\n",
       "      <td>1632.060000</td>\n",
       "      <td>224.000000</td>\n",
       "      <td>49745.730000</td>\n",
       "      <td>1.000000</td>\n",
       "    </tr>\n",
       "  </tbody>\n",
       "</table>\n",
       "</div>"
      ],
      "text/plain": [
       "             calls      minutes     messages       mb_used     is_ultra\n",
       "count  3214.000000  3214.000000  3214.000000   3214.000000  3214.000000\n",
       "mean     63.038892   438.208787    38.281269  17207.673836     0.306472\n",
       "std      33.236368   234.569872    36.148326   7570.968246     0.461100\n",
       "min       0.000000     0.000000     0.000000      0.000000     0.000000\n",
       "25%      40.000000   274.575000     9.000000  12491.902500     0.000000\n",
       "50%      62.000000   430.600000    30.000000  16943.235000     0.000000\n",
       "75%      82.000000   571.927500    57.000000  21424.700000     1.000000\n",
       "max     244.000000  1632.060000   224.000000  49745.730000     1.000000"
      ]
     },
     "execution_count": 5,
     "metadata": {},
     "output_type": "execute_result"
    }
   ],
   "source": [
    "df.describe()"
   ]
  },
  {
   "cell_type": "markdown",
   "id": "19e7a459-07f1-41b7-9abd-1193a9a6adf6",
   "metadata": {},
   "source": [
    "### Вывод\n",
    "Данные загружены и готовы к построению модели. Пропусков в данных нет. На текущий момент видно, что среди пользователей новых тарифов \"Ультра\" только у 31 % из них."
   ]
  },
  {
   "cell_type": "markdown",
   "id": "0b8772c2-1761-46ee-8250-93f7beb5a233",
   "metadata": {},
   "source": [
    "## 2. Построение моделей\n",
    "В исследовании будут испытаны три модели: дерево решений, случайный лес и логистическая регрессия.\n",
    "\n",
    "### 2.1. Разделение датасета на выборки\n",
    "Подготовим тренировочную, валидационную и тестовую выборки в соотношении 6:2:2 соответственно"
   ]
  },
  {
   "cell_type": "code",
   "execution_count": 6,
   "id": "65d690a4-ba79-42e5-9352-5a72f9f2ca6b",
   "metadata": {},
   "outputs": [],
   "source": [
    "features = df.drop('is_ultra', axis=1)\n",
    "target = df['is_ultra']"
   ]
  },
  {
   "cell_type": "code",
   "execution_count": 7,
   "id": "8a9ed9d5-ef48-416b-96ea-eb545771ebd9",
   "metadata": {},
   "outputs": [],
   "source": [
    "# для разбиения на 3 части используем train_test_split 2 раза последовательно\n",
    "features_train, x, target_train, y = train_test_split(features, target, test_size=0.4, train_size=0.6, random_state=12345, stratify=target)\n",
    "features_valid, features_test, target_valid, target_test = train_test_split(x, y, test_size=0.5, train_size=0.5, random_state=12345, stratify=y)"
   ]
  },
  {
   "cell_type": "code",
   "execution_count": 8,
   "id": "9888fd77-24df-42d1-8462-e7914ecccefd",
   "metadata": {},
   "outputs": [
    {
     "data": {
      "text/plain": [
       "(1928, 4)"
      ]
     },
     "metadata": {},
     "output_type": "display_data"
    },
    {
     "data": {
      "text/plain": [
       "(643, 4)"
      ]
     },
     "metadata": {},
     "output_type": "display_data"
    },
    {
     "data": {
      "text/plain": [
       "(643, 4)"
      ]
     },
     "metadata": {},
     "output_type": "display_data"
    }
   ],
   "source": [
    "display(features_train.shape)\n",
    "display(features_valid.shape)\n",
    "display(features_test.shape)"
   ]
  },
  {
   "cell_type": "markdown",
   "id": "01582d67-8098-4fab-952a-3e60488ed25d",
   "metadata": {},
   "source": [
    "### 2.2. Обучение дерева решений\n",
    "Подготовим и проверим на валидационной выборке дерево решений с различной глубиной"
   ]
  },
  {
   "cell_type": "code",
   "execution_count": 9,
   "id": "7a996080-c9a5-4e27-bd3e-7139bfbec3c3",
   "metadata": {},
   "outputs": [
    {
     "name": "stdout",
     "output_type": "stream",
     "text": [
      "max_depth = 1 : 0.74\n",
      "max_depth = 2 : 0.77\n",
      "max_depth = 3 : 0.78\n",
      "max_depth = 4 : 0.75\n",
      "max_depth = 5 : 0.79\n",
      "max_depth = 6 : 0.77\n"
     ]
    }
   ],
   "source": [
    "for depth in range(1, 7):\n",
    "    model = DecisionTreeClassifier(max_depth=depth, random_state=12345)\n",
    "    model.fit(features_train, target_train)\n",
    "    predictions = model.predict(features_valid)\n",
    "    print(f'max_depth = {depth} : {accuracy_score(target_valid, predictions):.2}')"
   ]
  },
  {
   "cell_type": "markdown",
   "id": "22d20d0a-6002-4be2-b5d7-fed98d8622d2",
   "metadata": {},
   "source": [
    "#### Вывод\n",
    "Лучший результат 0.79 показала модель с глубиной дерева равной 5"
   ]
  },
  {
   "cell_type": "markdown",
   "id": "e852bfde-8cbb-4943-bb03-0fe2b90ec180",
   "metadata": {},
   "source": [
    "### 2.2. Обучение случайного леса\n",
    "Подготовим и проверим на валидационной выборке случайный лес с различной глубиной деревьев и количеством деревьев"
   ]
  },
  {
   "cell_type": "code",
   "execution_count": 10,
   "id": "52b33b40-c410-471e-89f6-757a76023a13",
   "metadata": {},
   "outputs": [
    {
     "name": "stdout",
     "output_type": "stream",
     "text": [
      "Accuracy наилучшей модели на валидационной выборке: 0.82\n",
      "Глубина деревьев: 9 \n",
      "Количество деревьев: 5 \n",
      "Количество элементов в листе: 8\n"
     ]
    }
   ],
   "source": [
    "best_result = 0\n",
    "estimators = 0\n",
    "best_depth = 0\n",
    "best_leaf = 0\n",
    "for est in range(1, 10):\n",
    "    for depth in range(1, 12):\n",
    "        for leaf in range(2, 10):\n",
    "            model = RandomForestClassifier(random_state=12345, n_estimators=est, max_depth=depth, min_samples_leaf=leaf)\n",
    "            model.fit(features_train, target_train)\n",
    "            predictions = model.predict(features_valid)\n",
    "            result = accuracy_score(predictions, target_valid)\n",
    "            if result > best_result:\n",
    "                estimators = est\n",
    "                best_depth = depth\n",
    "                best_result = result\n",
    "                best_leaf = leaf\n",
    "\n",
    "print(f\"Accuracy наилучшей модели на валидационной выборке: {best_result:.2}\")\n",
    "print(\"Глубина деревьев:\", best_depth, \"\\nКоличество деревьев:\", estimators, \"\\nКоличество элементов в листе:\", best_leaf)"
   ]
  },
  {
   "cell_type": "markdown",
   "id": "78431c9b-5572-4506-b32f-947e5530b61b",
   "metadata": {},
   "source": [
    "#### Вывод\n",
    "Лучший результат 0.82 показала модель с глубиной деревьев равной 9, количеством деревьев - 5 и минимальным количеством элементов в листе - 8"
   ]
  },
  {
   "cell_type": "markdown",
   "id": "47d2a59b-9a55-4ab9-b8b8-0d7387b1b80e",
   "metadata": {},
   "source": [
    "### 2.3. Обучение модели логистической регрессии\n",
    "Подготовим и проверим на валидационной выборке модель логистической регрессии"
   ]
  },
  {
   "cell_type": "code",
   "execution_count": 11,
   "id": "a4b53adf-636a-4e08-af9f-9bc49a8ff81c",
   "metadata": {},
   "outputs": [
    {
     "name": "stdout",
     "output_type": "stream",
     "text": [
      "Accuracy = 0.74\n"
     ]
    }
   ],
   "source": [
    "model = LogisticRegression(random_state=12345)\n",
    "model.fit(features_train, target_train)\n",
    "predictions = model.predict(features_valid)\n",
    "print(f'Accuracy = {accuracy_score(predictions, target_valid):.2}')"
   ]
  },
  {
   "cell_type": "markdown",
   "id": "e91ad04b-2b1d-4a94-b1c5-255353fdc90a",
   "metadata": {},
   "source": [
    "#### Вывод\n",
    "На валидационной выборке модель имеет худший результат среди рассмотренных"
   ]
  },
  {
   "cell_type": "markdown",
   "id": "36f8687a-9547-48f8-b0b9-4e65d7914038",
   "metadata": {},
   "source": [
    "### Вывод\n",
    "Мы обучили три модели: дерево решений, случайный лес и логистическую регрессию. Среди рассмотренных моделей лучший результат 0,82 показала модель случайного леса с количеством деревьев 5, глубиной 9 и минимальным количеством элеметов 8"
   ]
  },
  {
   "cell_type": "markdown",
   "id": "4570c841-468f-4c36-862d-044d2e227a79",
   "metadata": {},
   "source": [
    "## 3. Проверка моделей\n",
    "Проверим лучшую модель на тестовой выборке"
   ]
  },
  {
   "cell_type": "code",
   "execution_count": 12,
   "id": "a6fef393-3f62-4407-bee0-f31a09ec4207",
   "metadata": {},
   "outputs": [
    {
     "data": {
      "text/plain": [
       "RandomForestClassifier(max_depth=9, min_samples_leaf=8, n_estimators=5,\n",
       "                       random_state=12345)"
      ]
     },
     "execution_count": 12,
     "metadata": {},
     "output_type": "execute_result"
    }
   ],
   "source": [
    "forest_model = RandomForestClassifier(random_state=12345, n_estimators=5, max_depth=9, min_samples_leaf=8)\n",
    "forest_model.fit(features_train, target_train)"
   ]
  },
  {
   "cell_type": "code",
   "execution_count": 13,
   "id": "eeef2e13-d40d-4cdf-ae11-de1c1c433c90",
   "metadata": {},
   "outputs": [],
   "source": [
    "forest_predictions = forest_model.predict(features_test)"
   ]
  },
  {
   "cell_type": "code",
   "execution_count": 14,
   "id": "5ac16716-676d-49f0-adfc-b35692ccf3ca",
   "metadata": {},
   "outputs": [
    {
     "name": "stdout",
     "output_type": "stream",
     "text": [
      "Accuracy случайного леса = 0.81\n"
     ]
    }
   ],
   "source": [
    "print(f'Accuracy случайного леса = {accuracy_score(forest_predictions, target_test):.3}')"
   ]
  },
  {
   "cell_type": "markdown",
   "id": "a7833c56-bf1c-4cd6-b229-8b5066083682",
   "metadata": {},
   "source": [
    "### Вывод\n",
    "На тестовой выборке модель показала точность 0.81, чуть ниже, чем на валидационной."
   ]
  },
  {
   "cell_type": "markdown",
   "id": "3f40e0ec-1475-40b4-8703-cc36151e5e61",
   "metadata": {},
   "source": [
    "## 4. Проверка на адекватность\n",
    "Для проверки на адекватность будем использовать наивный классификатор, который выдает в качестве прогноза наиболее частое значение из выборки."
   ]
  },
  {
   "cell_type": "code",
   "execution_count": 15,
   "id": "456d28ee-2d6d-4cec-8232-93e6a2d05add",
   "metadata": {},
   "outputs": [
    {
     "name": "stdout",
     "output_type": "stream",
     "text": [
      "Accuracy наивного классификатора = 0.694\n"
     ]
    }
   ],
   "source": [
    "dummy = DummyClassifier(random_state=12345)\n",
    "dummy.fit(features_train, target_train)\n",
    "dummy_predictions = dummy.predict(features_test)\n",
    "print(f'Accuracy наивного классификатора = {accuracy_score(dummy_predictions, target_test):.3}')"
   ]
  },
  {
   "cell_type": "markdown",
   "id": "43fd63d4-ce27-420d-92c3-68b2b90f78b4",
   "metadata": {},
   "source": [
    "### Вывод\n",
    "Наивный классификатор угадывает в 69 % случаев."
   ]
  },
  {
   "cell_type": "markdown",
   "id": "4f2c3aef-3cd9-4529-9e66-5a41d727dc48",
   "metadata": {},
   "source": [
    "## Вывод\n",
    "Таким образом, в исследовании были расмотрены модели дерева решений, случайного леса и логистической регрессии. На валидационной выборке требуемый порог в 0.75 преодалели модель случайного леса и дерево решений. Наилучший результат accuracy=0.82 на валидационной выборке показала модель случайного леса со следующими гипермараметрами: количество деревьев - 5, глубина - 9, минимальное количество элементов в листе - 8. На тестовой выборке она показала точность 0.81. Полученный результат лучше наивной классификации примерно на 22 %."
   ]
  },
  {
   "cell_type": "code",
   "execution_count": null,
   "id": "fc866d9f-71ca-4086-8cdd-14bf74c3514b",
   "metadata": {},
   "outputs": [],
   "source": []
  }
 ],
 "metadata": {
  "kernelspec": {
   "display_name": "Python 3 (ipykernel)",
   "language": "python",
   "name": "python3"
  },
  "language_info": {
   "codemirror_mode": {
    "name": "ipython",
    "version": 3
   },
   "file_extension": ".py",
   "mimetype": "text/x-python",
   "name": "python",
   "nbconvert_exporter": "python",
   "pygments_lexer": "ipython3",
   "version": "3.9.13"
  }
 },
 "nbformat": 4,
 "nbformat_minor": 5
}
